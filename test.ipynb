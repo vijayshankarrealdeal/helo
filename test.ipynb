{
 "cells": [
  {
   "cell_type": "code",
   "execution_count": 1,
   "metadata": {},
   "outputs": [],
   "source": [
    "from s_base import get_client\n",
    "from s_base_db import DatabaseSession\n",
    "import pandas as pd\n",
    "import datetime\n",
    "from s_base_storage import download_url\n"
   ]
  },
  {
   "cell_type": "code",
   "execution_count": 2,
   "metadata": {},
   "outputs": [
    {
     "name": "stdout",
     "output_type": "stream",
     "text": [
      "https://iqescxirvpvbjkifbrwu.supabase.co\n"
     ]
    }
   ],
   "source": [
    "s_base = get_client()"
   ]
  },
  {
   "cell_type": "code",
   "execution_count": 3,
   "metadata": {},
   "outputs": [],
   "source": [
    "df = pd.read_csv(\"dataset.csv\")"
   ]
  },
  {
   "cell_type": "code",
   "execution_count": 4,
   "metadata": {},
   "outputs": [
    {
     "data": {
      "text/plain": [
       "'sarcasm_photo_2@10-05-2017_04-33-57 (2931).jpg'"
      ]
     },
     "execution_count": 4,
     "metadata": {},
     "output_type": "execute_result"
    }
   ],
   "source": [
    "df.loc[0]['img']"
   ]
  },
  {
   "cell_type": "code",
   "execution_count": 5,
   "metadata": {},
   "outputs": [
    {
     "name": "stdout",
     "output_type": "stream",
     "text": [
      "https://iqescxirvpvbjkifbrwu.supabase.co/storage/v1/object/public/meme_basket/basket_images_meme/high_iq_memes_photo_1@26-11-2021_16-56-41 (100).jpg?\n"
     ]
    }
   ],
   "source": [
    "print(download_url(s_base, \"high_iq_memes_photo_1@26-11-2021_16-56-41 (100).jpg\"))"
   ]
  },
  {
   "cell_type": "code",
   "execution_count": 5,
   "metadata": {},
   "outputs": [],
   "source": []
  },
  {
   "cell_type": "code",
   "execution_count": 6,
   "metadata": {},
   "outputs": [],
   "source": [
    "db_session = DatabaseSession()"
   ]
  },
  {
   "cell_type": "code",
   "execution_count": 7,
   "metadata": {},
   "outputs": [],
   "source": []
  },
  {
   "cell_type": "code",
   "execution_count": null,
   "metadata": {},
   "outputs": [],
   "source": []
  },
  {
   "cell_type": "code",
   "execution_count": 7,
   "metadata": {},
   "outputs": [
    {
     "name": "stdout",
     "output_type": "stream",
     "text": [
      "Database connection established.\n"
     ]
    }
   ],
   "source": [
    "\n",
    "# Initialize the DatabaseSession singleton\n",
    "db_session = DatabaseSession()\n",
    "\n",
    "result = db_session.execute_query(\"select * from meme\")\n"
   ]
  },
  {
   "cell_type": "code",
   "execution_count": 8,
   "metadata": {},
   "outputs": [
    {
     "data": {
      "text/plain": [
       "(6544,\n",
       " datetime.datetime(2025, 2, 3, 13, 42, 28, 871521, tzinfo=datetime.timezone.utc),\n",
       " 'sarcasm',\n",
       " 'sarcasm_photo_2@10-05-2017_04-33-57 (2931).jpg',\n",
       " \"a quote that says, ' art from life is not what it is, but it is not what\",\n",
       " None,\n",
       " ' Apart from \"life is short\" What other lines do you use before making bad decisions. Ssarcasm')"
      ]
     },
     "execution_count": 8,
     "metadata": {},
     "output_type": "execute_result"
    }
   ],
   "source": [
    "result[0]"
   ]
  },
  {
   "cell_type": "code",
   "execution_count": null,
   "metadata": {},
   "outputs": [],
   "source": []
  }
 ],
 "metadata": {
  "kernelspec": {
   "display_name": "base",
   "language": "python",
   "name": "python3"
  },
  "language_info": {
   "codemirror_mode": {
    "name": "ipython",
    "version": 3
   },
   "file_extension": ".py",
   "mimetype": "text/x-python",
   "name": "python",
   "nbconvert_exporter": "python",
   "pygments_lexer": "ipython3",
   "version": "3.12.7"
  }
 },
 "nbformat": 4,
 "nbformat_minor": 2
}
